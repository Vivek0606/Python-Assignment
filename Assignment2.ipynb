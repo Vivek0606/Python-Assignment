{
 "cells": [
  {
   "cell_type": "raw",
   "id": "6087f3be",
   "metadata": {},
   "source": [
    "Q1. What is the relationship between classes and modules?\n",
    "--> In Python, a module is a file containing Python code, while a class is a blueprint for creating objects with specific properties and behaviors. When a module contains one or more classes, those classes can be imported and used in other modules or scripts that require their functionality. \n",
    "    For example, if a module called 'my_module' contains a class called 'MyClass', you can import 'MyClass' in another script using:from my_module import MyClass.\n",
    "    \n",
    "    \n",
    "    \n",
    "Q2. How do you make instances and classes?\n",
    "--> For Instances:\n",
    "In Python, a class instance is created by calling the class as if it were a function, and passing any required arguments to the class constructor (i.e., the __init__ method). This will create a new instance of the class. Once an instance of the class has been created, it can be used to access the instance's attributes and methods.\n",
    "\n",
    "For Classes:\n",
    "In Python, a class is created using the 'class' keyword, followed by the name of the class and a colon. The body of the class, which defines its attributes and methods, is indented under the class declaration.\n",
    "\n",
    "\n",
    "\n",
    "Q3. Where and how should be class attributes created?\n",
    "--> Class attributes in Python should be created inside the class definition, outside any method, using the class name to reference them. They can be accessed and modified using the class name or an instance of the class, but modifying them through an instance only affects that instance, not all instances of the class.\n",
    "\n",
    "\n",
    "\n",
    "Q4. Where and how are instance attributes created?\n",
    "--> Instance attributes in Python are attributes that are specific to an instance of a class. They are created inside the '__init__' method of the class using the 'self' keyword to reference them. They are specific to each instance of the class and can be accessed using dot notation on the instance name.\n",
    "\n",
    "\n",
    "\n",
    "Q5. What does the term \"self\" in a Python class mean?\n",
    "--> In Python, 'self' is a reference to the instance of the class. It is a convention in Python to use 'self' as the first parameter name in instance methods. In Python, whatever first variable you take that will behave as a pointer for any function you write.\n",
    "\n",
    "\n",
    "\n",
    "Q6. How does a Python class handle operator overloading?\n",
    "--> In Python, operator overloading allows classes to define their own behavior for operators such as +, -, *, /, etc. This is achieved by defining special methods in the class that correspond to the operator being overloaded. These special methods are called \"magic methods\". For example, if we want to define the behavior of the \"+\" operator for instances of a custom class, we can define the '__add__' method in the class.\n",
    "\n",
    "\n",
    "\n",
    "Q7. When do you consider allowing operator overloading of your classes?\n",
    "--> Operator overloading can be useful when we want to define custom behavior for operators that are used with instances of our own classes. This can make our code more concise and readable by allowing us to use natural mathematical or logical expressions to manipulate objects of our custom classes.\n",
    "\n",
    "\n",
    "\n",
    "Q8. What is the most popular form of operator overloading?\n",
    "--> One of the most popular forms of operator overloading in Python is arithmetic operator overloading. This involves defining special methods in a class to handle arithmetic operators such as +, -, *, /, //, %, and ** for instances of the class.\n",
    "\n",
    "\n",
    "\n",
    "Q9. What are the two most important concepts to grasp in order to comprehend Python OOP code?\n",
    "--> The two most important concepts to grasp in order to comprehend Python OOP code are 'Classes' and 'Objects'."
   ]
  }
 ],
 "metadata": {
  "kernelspec": {
   "display_name": "Python 3 (ipykernel)",
   "language": "python",
   "name": "python3"
  },
  "language_info": {
   "codemirror_mode": {
    "name": "ipython",
    "version": 3
   },
   "file_extension": ".py",
   "mimetype": "text/x-python",
   "name": "python",
   "nbconvert_exporter": "python",
   "pygments_lexer": "ipython3",
   "version": "3.9.7"
  }
 },
 "nbformat": 4,
 "nbformat_minor": 5
}
